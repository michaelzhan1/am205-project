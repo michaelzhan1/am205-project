{
 "cells": [
  {
   "cell_type": "code",
   "execution_count": 21,
   "metadata": {},
   "outputs": [],
   "source": [
    "import numpy as np\n",
    "import numdifftools as nd\n",
    "from deap import benchmarks"
   ]
  },
  {
   "cell_type": "code",
   "execution_count": 29,
   "metadata": {},
   "outputs": [],
   "source": [
    "def f(x):\n",
    "    return benchmarks.ackley(x)[0]\n",
    "\n",
    "def gradient(x):\n",
    "    return nd.Gradient(f)(x)\n",
    "\n",
    "def hessian(x):\n",
    "    return nd.Hessian(f)(x)\n",
    "\n",
    "def newton(x0, tol=1e-10, maxiter=1000):\n",
    "    x = x0\n",
    "    for i in range(maxiter):\n",
    "        print(i)\n",
    "        x = x - np.linalg.pinv(hessian(x)) @ gradient(x)\n",
    "        if np.linalg.norm(gradient(x)) < tol:\n",
    "            print('Solution found')\n",
    "            break\n",
    "    else:\n",
    "        print(f'Failed to converge within {tol} in {maxiter} iterations')\n",
    "    return x"
   ]
  },
  {
   "cell_type": "code",
   "execution_count": 30,
   "metadata": {},
   "outputs": [
    {
     "name": "stdout",
     "output_type": "stream",
     "text": [
      "3.625384938440362\n",
      "[1.63746151 1.63746151]\n",
      "0\n",
      "1\n",
      "2\n",
      "3\n",
      "[0.96847766 0.96847766]\n"
     ]
    }
   ],
   "source": [
    "x = np.array([1, 1], dtype=np.float64)\n",
    "print(f(x))\n",
    "print(gradient(x))\n",
    "# print(hessian(x))\n",
    "print(newton(x))"
   ]
  },
  {
   "cell_type": "code",
   "execution_count": null,
   "metadata": {},
   "outputs": [],
   "source": []
  }
 ],
 "metadata": {
  "kernelspec": {
   "display_name": ".venv",
   "language": "python",
   "name": "python3"
  },
  "language_info": {
   "codemirror_mode": {
    "name": "ipython",
    "version": 3
   },
   "file_extension": ".py",
   "mimetype": "text/x-python",
   "name": "python",
   "nbconvert_exporter": "python",
   "pygments_lexer": "ipython3",
   "version": "3.11.5"
  }
 },
 "nbformat": 4,
 "nbformat_minor": 2
}
