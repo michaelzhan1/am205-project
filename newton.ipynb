{
 "cells": [
  {
   "cell_type": "code",
   "execution_count": 2,
   "metadata": {},
   "outputs": [],
   "source": [
    "import autograd.numpy as np\n",
    "from autograd import grad, jacobian"
   ]
  },
  {
   "cell_type": "code",
   "execution_count": 19,
   "metadata": {},
   "outputs": [],
   "source": [
    "def f(x):\n",
    "    return 100 * (x[1] - x[0]**2)**2 + (1 - x[0])**2\n",
    "\n",
    "def gradient(x):\n",
    "    return grad(f)(x)\n",
    "\n",
    "def hessian(x):\n",
    "    return jacobian(gradient)(x)\n",
    "\n",
    "def newton(x0, tol=1e-15, maxiter=1000):\n",
    "    x = x0\n",
    "    for i in range(maxiter):\n",
    "        x = x - np.linalg.pinv(hessian(x)) @ gradient(x)\n",
    "        if np.linalg.norm(gradient(x)) < tol:\n",
    "            break\n",
    "    return x"
   ]
  },
  {
   "cell_type": "code",
   "execution_count": 20,
   "metadata": {},
   "outputs": [
    {
     "name": "stdout",
     "output_type": "stream",
     "text": [
      "0.9998010098000101\n",
      "[-1.999804  0.019998]\n",
      "[[ 1.960012e+00 -4.000000e-02]\n",
      " [-4.000000e-02  2.000000e+02]]\n",
      "[1. 1.]\n"
     ]
    }
   ],
   "source": [
    "x = np.array([0.0001, 0.0001], dtype=np.float64)\n",
    "print(f(x))\n",
    "print(gradient(x))\n",
    "print(hessian(x))\n",
    "print(newton(x))"
   ]
  }
 ],
 "metadata": {
  "kernelspec": {
   "display_name": ".venv",
   "language": "python",
   "name": "python3"
  },
  "language_info": {
   "codemirror_mode": {
    "name": "ipython",
    "version": 3
   },
   "file_extension": ".py",
   "mimetype": "text/x-python",
   "name": "python",
   "nbconvert_exporter": "python",
   "pygments_lexer": "ipython3",
   "version": "3.11.3"
  }
 },
 "nbformat": 4,
 "nbformat_minor": 2
}
